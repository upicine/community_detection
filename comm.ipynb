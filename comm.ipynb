{
 "cells": [
  {
   "cell_type": "code",
   "execution_count": 1,
   "metadata": {},
   "outputs": [],
   "source": [
    "import networkx as nx"
   ]
  },
  {
   "cell_type": "code",
   "execution_count": 49,
   "metadata": {},
   "outputs": [
    {
     "data": {
      "text/plain": [
       "[{0, 1, 2},\n",
       " {3, 4, 5},\n",
       " {6, 7, 8},\n",
       " {9, 10, 11},\n",
       " {12, 13, 14},\n",
       " {15, 16, 17},\n",
       " {18, 19, 20},\n",
       " {21, 22, 23},\n",
       " {24, 25, 26},\n",
       " {27, 28, 29},\n",
       " {30, 31, 32},\n",
       " {33}]"
      ]
     },
     "execution_count": 49,
     "metadata": {},
     "output_type": "execute_result"
    }
   ],
   "source": [
    "G = nx.karate_club_graph()\n",
    "\n",
    "visit_order = [n for n, _ in \n",
    "               sorted(G.degree, key=lambda x: x[1], reverse=True)]\n",
    "\n",
    "def init_partition(G):\n",
    "    partition = []\n",
    "    for n in G.nodes:\n",
    "        if n % 3 == 0:\n",
    "            partition.append(set())\n",
    "        partition[-1].add(n)\n",
    "    return partition\n",
    "\n",
    "partition = init_partition(G)        "
   ]
  },
  {
   "cell_type": "code",
   "execution_count": 50,
   "metadata": {},
   "outputs": [],
   "source": [
    "def d(S, i, G):\n",
    "    nodes_in_comm = 0\n",
    "    for n in G.neighbors(i):\n",
    "        if n in S:\n",
    "            nodes_in_comm += 1\n",
    "    return nodes_in_comm\n",
    "\n",
    "def T(S, i, G):\n",
    "    nodes_in_comm = 0\n",
    "    i_neigh = set(G.neighbors(i))\n",
    "    for n in i_neigh:\n",
    "        n_neigh = set(G.neighbors(n))\n",
    "        common_neigh = i_neigh.intersection(n_neigh)\n",
    "        nodes_in_comm += len(common_neigh.intersection(S))\n",
    "    return nodes_in_comm\n",
    "\n",
    "\n",
    "def u(S, i, G):\n",
    "    d_i = d(S, i, G)\n",
    "    T_i = T(S, i, G)\n",
    "    \n",
    "    return d_i + (2 * T_i) / (d_i - 1)\n",
    "\n",
    "def S_pi(i, partition):\n",
    "    for S in partition:\n",
    "        if i in S:\n",
    "            return S\n",
    "        \n",
    "def Pi(i, partition):\n",
    "    S_i = S_pi(i, partition)\n",
    "    result = [S_i]\n",
    "    for n in S_i:\n",
    "        for S in result:\n",
    "            if n in S:\n",
    "                break\n",
    "        else:\n",
    "            for S in partition:\n",
    "                if n in S:\n",
    "                    result.append(S)\n",
    "                    break;\n",
    "    return result\n",
    "                    \n",
    "def NASHCoDe(partition, visit_order, G):\n",
    "    while True:\n",
    "        flag = 0\n",
    "        for j in visit_order:\n",
    "            S_j = S_pi(j, partition)\n",
    "            Pi_j = Pi(j, partition)\n",
    "            u_j = u(S_j, j, G)\n",
    "            for S_k in Pi_j:\n",
    "                u_k = u(S_k, j, G)\n",
    "                print(u_j, u_k)\n",
    "                if u_j < u_k:\n",
    "                    S_j.remove(j)\n",
    "                    S_k.add(j)\n",
    "                    flag = 1\n",
    "                    break\n",
    "        if flag == 0:\n",
    "            break"
   ]
  }
 ],
 "metadata": {
  "kernelspec": {
   "display_name": "Python 3",
   "language": "python",
   "name": "python3"
  },
  "language_info": {
   "codemirror_mode": {
    "name": "ipython",
    "version": 3
   },
   "file_extension": ".py",
   "mimetype": "text/x-python",
   "name": "python",
   "nbconvert_exporter": "python",
   "pygments_lexer": "ipython3",
   "version": "3.7.7"
  }
 },
 "nbformat": 4,
 "nbformat_minor": 2
}
